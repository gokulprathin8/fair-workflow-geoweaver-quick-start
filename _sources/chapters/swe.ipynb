{
 "cells": [
  {
   "cell_type": "markdown",
   "metadata": {},
   "source": [
    "# SWE Workflow"
   ]
  },
  {
   "cell_type": "markdown",
   "metadata": {},
   "source": [
    "In this chapter, we embark on a deep dive into the Snow Water Equivalence (SWE) Prediction Workflow, highlighting its architecture, components, and optimization techniques. This practical application of Pygeoweaver exemplifies how it seamlessly integrates data from diverse sources, including the Shuttle Radar Topographic Mission (SRTM) DEM and Advanced Microwave Scanning Radiometer (AMSR) data, to predict SWE in the Western United States. Our journey will provide a detailed understanding of how Pygeoweaver orchestrates this complex scientific process.\n",
    "\n",
    "### Understanding the Challenge\n",
    "Predicting Snow Water Equivalence (SWE) is a critical task with applications in water resource management, flood forecasting, and drought monitoring. In the Western US, where snowpack significantly impacts freshwater availability, accurate SWE predictions are paramount.\n",
    "\n",
    "### Datasets Fueling the Workflow\n",
    "\n",
    "* **NASA SRTM 30M DEM (Digital Elevation Model):** This global dataset furnishes elevation information, playing a crucial role in influencing snow accumulation and melt patterns.\n",
    "* **NSIDC AMSR Data:** Derived from the Advanced Microwave Scanning Radiometer (AMSR2) instrument onboard the JAXA GCOM-W1 satellite, this dataset provides daily estimates of Snow Water Equivalent (SWE). Its microwave measurements offer a vital perspective on snowpack characteristics.\n",
    "* **gridMET Meteo Datasets:** These datasets, encompassing meteorological data such as temperature and precipitation, further enrich the SWE Prediction Workflow by providing crucial environmental context.\n",
    "* **SNOTEL Ground Observations:** Ground-based measurements of snowpack and weather conditions, like those from SNOTEL stations, contribute real-world observations that enhance the accuracy of predictions."
   ]
  },
  {
   "cell_type": "markdown",
   "metadata": {},
   "source": [
    "![swe-workflow](../img/swe_workflow.png \"SWE Workflow\")"
   ]
  },
  {
   "cell_type": "markdown",
   "metadata": {},
   "source": [
    "The Snow Water Equivalence (SWE) Workflow is structured into distinct processes, each serving a specific purpose in the data collection, model training, testing, and evaluation phases. Let's delve into the details of these processes:"
   ]
  },
  {
   "cell_type": "markdown",
   "metadata": {},
   "source": [
    "**snowcast_utils:** \n",
    "* **Purpose:** Contains reusable utility functions for testing & training the model.\n",
    "* **Functionality:** Provides essential functions to streamline the testing and evaluation of the SWE prediction model.\n",
    "\n",
    "\n",
    "### Testing the Model:\n",
    "\n",
    "\n",
    "**western_us_dem:**\n",
    "* **Purpose:** Collects Digital Elevation Model (DEM) data for the entire western US.\n",
    "* **Functionality:** Retrieves elevation data, which plays a crucial role in snow accumulation and melt patterns.\n",
    "\n",
    "**amsr_testing_realtime:**\n",
    "* **Purpose:** Collects real-time Advanced Microwave Scanning Radiometer (AMSR) data for testing.\n",
    "* **Functionality:** Gathers real-time AMSR data to aid in model evaluation and predictions.\n",
    "\n",
    "**gridmet_testing:**\n",
    "\n",
    "* **Purpose:** Collects Gridmet data from the Climatology Lab and performs preprocessing for integration.\n",
    "* **Functionality:** Ensures that Gridmet data, including meteorological information, is prepared for seamless integration into the workflow.\n",
    "\n",
    "**testing_data_integration:**\n",
    "\n",
    "* **Purpose:** Combines data from the western US DEM, Gridmet, and AMSR sources into a single CSV file for testing.\n",
    "* **Functionality:** Harmonizes data from diverse sources, creating a unified dataset for model evaluation and predictions.\n",
    "\n",
    "**model_predict:**\n",
    "\n",
    "* **Purpose:** Uses the specified machine learning model to predict SWE for the western US based on the CSV generated from the testing_data_integration process.\n",
    "* **Functionality:** Utilizes the integrated dataset to make SWE predictions, offering insights into snowpack conditions.\n",
    "\n",
    "**convert_results_to_images:**\n",
    "\n",
    "* **Purpose:** Converts the CSV file generated from model predictions into images for visualization of the results.\n",
    "* **Functionality:** Enhances accessibility by rendering SWE predictions in a visual format.\n",
    "\n",
    "**model_evaluation:**\n",
    "\n",
    "* **Purpose:** Tests the machine learning model trained during the testing phase for evaluation metrics.\n",
    "* **Functionality:** Provides valuable metrics to gauge the accuracy and reliability of SWE predictions."
   ]
  },
  {
   "cell_type": "markdown",
   "metadata": {},
   "source": [
    "### Traning the Model:"
   ]
  },
  {
   "cell_type": "markdown",
   "metadata": {},
   "source": [
    "**data_gee_gridmet_station_only:**\n",
    "\n",
    "* **Purpose:** Collects Gridmet data for training the model within a specific data collection range.\n",
    "* **Functionality:** Gathers Gridmet data to prepare it for model training.\n",
    "\n",
    "**amsr_features:**\n",
    "\n",
    "* **Purpose:** Collects AMSR data for training the model.\n",
    "* **Functionality:** Gathers AMSR data, a valuable source for training the model.\n",
    "\n",
    "**training_data_range:**\n",
    "\n",
    "* **Purpose:** Trains the model with a specific data range, which can be specified in the process.\n",
    "* **Functionality:** Ensures that the model is trained on the data relevant to the desired range.\n",
    "\n",
    "**data_integration:**\n",
    "\n",
    "* **Purpose:** Merges data from AMSR, Gridmet, and Snotel into one CSV file.\n",
    "* **Functionality:** Creates a unified dataset for model training, encompassing various data sources.\n",
    "\n",
    "**data_snotel_station_only:**\n",
    "\n",
    "* **Purpose:** Collects Snotel data for training the model, which represents the true SWE values to be predicted.\n",
    "* **Functionality:** Provides crucial ground-based SWE observations for model training.\n",
    "\n",
    "**training_feature_selection:**\n",
    "\n",
    "* **Purpose:** Selects specific features required for model training from the collected data.\n",
    "* **Functionality:** Cleans and prepares the data, ensuring that only relevant features are included in the training dataset.\n",
    "\n",
    "**model_train_validate:**\n",
    "\n",
    "* **Purpose:** Trains the machine learning model and performs validation metrics after training.\n",
    "* **Functionality:** Trains the model and assesses its performance using validation metrics.\n",
    "\n",
    "**model_creation_et:**\n",
    "\n",
    "* **Purpose:** Contains all the logic for the Extra Tree Regressor model.\n",
    "* **Functionality:** Implements the Extra Tree Regressor model for SWE prediction."
   ]
  },
  {
   "cell_type": "markdown",
   "metadata": {},
   "source": [
    "Each of these processes contributes to the overall success of the SWE Workflow, demonstrating the steps involved in predicting Snow Water Equivalence in the Western US. Pygeoweaver facilitates the seamless integration and execution of these processes, ensuring a streamlined and efficient workflow management experience"
   ]
  },
  {
   "cell_type": "markdown",
   "metadata": {},
   "source": [
    "### Preliminary Results\n",
    "\n",
    "While our workflow is operational, we face challenges. The model currently exhibits underestimation, particularly in mountain alpine snow regions, primarily due to overfitting. To rectify this, we're implementing three strategies: adjusting sample ratios in the training data, refining model preferences using weight parameters, and exploring reinforcement learning to counteract underestimation. We're also working on enhancing sensitivity to understand how input data influences model behavior. This involves utilizing techniques like feature importance analysis and correlation assessments.\n",
    "\n",
    "Model interpretability is another focal point. We plan to integrate a dedicated step in the workflow to provide human-readable insights into the model's decision-making process. This will enable us to comprehend the model's inner workings and guide improvements effectively.\n",
    "\n",
    "We recognize the importance of model evaluation both during and after training. Establishing robust evaluation metrics is essential for iterative progress. We aim to incorporate a dedicated evaluation step into the workflow to monitor model performance consistently. This will aid us in identifying areas for enhancement and guiding the refinement process with objective metrics, ultimately ensuring meaningful progress in each iteration."
   ]
  },
  {
   "cell_type": "markdown",
   "metadata": {},
   "source": [
    "![swe-primilimary-result](../img/swe_map_res.png \"SWE Workflow Primilary Result\")"
   ]
  },
  {
   "cell_type": "markdown",
   "metadata": {},
   "source": []
  }
 ],
 "metadata": {
  "language_info": {
   "name": "python"
  },
  "orig_nbformat": 4
 },
 "nbformat": 4,
 "nbformat_minor": 2
}
