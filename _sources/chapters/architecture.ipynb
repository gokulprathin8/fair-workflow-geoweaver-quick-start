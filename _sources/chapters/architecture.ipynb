{
 "cells": [
  {
   "cell_type": "markdown",
   "metadata": {},
   "source": [
    "# Pygeoweaver's Architecture\n",
    "\n",
    "In this chapter, we explore the architecture of Pygeoweaver, offering a comprehensive understanding of its inner workings. Pygeoweaver's architecture is the foundation that empowers researchers to streamline scientific workflows efficiently. By grasping the core components and their interactions, you'll be better equipped to harness Pygeoweaver's capabilities effectively. The modularity of pygeoweaver enhances its flexibility, adaptability and versatility."
   ]
  },
  {
   "cell_type": "markdown",
   "metadata": {},
   "source": [
    "![](../img/arch-pygeoweaver.png)"
   ]
  },
  {
   "cell_type": "markdown",
   "metadata": {},
   "source": [
    "At the heart of Pygeoweaver’s architecture lies seamless integration between Pygeoweaver and Geoweaver. This collaboration makes it possible to execute scientific workflows within jupyter notebook.Pygeoweaver and Geoweaver communicate through a set of well-defined API calls, these API calls bridge the instructions and data flow between two entities. While Pygeoweaver takes the spotlight, Geoweaver operates behind the scenes, executing workflows and managing data. It interprets Pygeoweaver's instructions, orchestrating the execution of processes and handling data management. Additionally, Geoweaver handles errors and exceptions, ensuring workflow continuity.\n",
    "\n",
    "Pygeoweaver offers a suite of functions to empower your workflow management. You can create processes in two ways: either by importing code from a file or by writing your own code. These processes can then be orchestrated into workflows, where you define the structure and dependencies, creating a seamless sequence of tasks. If collaboration is your goal, Pygeoweaver provides export and import functions to enhance sharing capabilities. Dive deeper into your processes and workflows with detailed insights, and when you're ready to put your plans into action, Pygeoweaver's execution functions step in to execute your processes and workflows seamlessly. It's like having a toolkit that enables you to compose, analyze, and conduct your workflow with ease.\n"
   ]
  },
  {
   "cell_type": "markdown",
   "metadata": {},
   "source": []
  }
 ],
 "metadata": {
  "language_info": {
   "name": "python"
  },
  "orig_nbformat": 4
 },
 "nbformat": 4,
 "nbformat_minor": 2
}
