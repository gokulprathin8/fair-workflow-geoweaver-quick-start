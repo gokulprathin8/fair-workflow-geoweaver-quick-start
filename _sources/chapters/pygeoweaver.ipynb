{
 "cells": [
  {
   "cell_type": "markdown",
   "metadata": {},
   "source": [
    "# Pygeoweaver"
   ]
  },
  {
   "cell_type": "markdown",
   "metadata": {},
   "source": [
    "Before diving deeper into Pygeoweaver, it's crucial to establish an foundational understanding of Geoweaver. It provides a user-centric, GUI-based platform for orchestrating complex research processes. Its significance lies in its ability to streamline workflow creation, foster collaboration, and enhance the overall research experience.\n",
    "\n",
    "Pygeoweaver serves as a crucial bridge between the Java-based Geoweaver and the Python ecosystem. Pygeoweaver is a python binding designed to enhance its compatibility and usability within the Python environment. Pygeoweaver introduces new layers of functionality, making it particularly well-suited for integration with Jupyter Notebooks and Jupyter Hub. "
   ]
  },
  {
   "cell_type": "markdown",
   "metadata": {},
   "source": [
    "#### Setting up Pygeoweaver \n",
    "\n",
    "\n",
    "To begin using Pygeoweaver, you need to install it on your system. Pygeoweaver is available on the Python Package Index (PyPI), which means you can install it easily using pip.\n",
    "\n",
    "```bash\n",
    "pip install pygeoweaver\n",
    "```\n",
    "\n",
    "This command will install the latest version of Pygeoweaver and its dependencies on your machine. Make sure you have Python and pip installed and properly configured before running this command."
   ]
  },
  {
   "cell_type": "markdown",
   "metadata": {},
   "source": [
    "Once Pygeoweaver is successfully installed, you can quickly embark on your journey with the following steps:\n",
    "Import Pygeoweaver Package: Begin by importing the Pygeoweaver package into your Python script or interactive session. This step is essential to access Pygeoweaver's extensive functionalities.\n",
    "\n",
    "```python\n",
    "import pygeoweaver\n",
    "```\n",
    "Before initiating the workflow execution, users need to start the Geoweaver server using the `pygeoweaver.start()` command. This command initiates the Geoweaver server, which acts as the backbone of our workflow execution. It handles the orchestration of tasks, data flow, and communication between different components of the workflow.\n"
   ]
  },
  {
   "cell_type": "code",
   "execution_count": 8,
   "metadata": {},
   "outputs": [
    {
     "name": "stdout",
     "output_type": "stream",
     "text": [
      "Stop running Geoweaver if any..\n",
      "Check Java..\n",
      "Start Geoweaver..\n",
      "Success: Geoweaver is up\n"
     ]
    }
   ],
   "source": [
    "import pygeoweaver\n",
    "pygeoweaver.start()"
   ]
  },
  {
   "cell_type": "markdown",
   "metadata": {},
   "source": [
    "Create Processes: Pygeoweaver allows you to define and create processes seamlessly. The create_process function is your gateway to specifying essential details such as programming language, description, name, and most importantly, the code for your process. Here's a concise example:\n",
    "\n",
    "```python\n",
    "process = pygeoweaver.create_process(\n",
    "    lang=\"python\",\n",
    "    description=\"My first Pygeoweaver process\",\n",
    "    name=\"Process 1\",\n",
    "    code=\"\"\"\n",
    "        # Your process code here\n",
    "    \"\"\"\n",
    ")\n",
    "```\n",
    "\n",
    "Exploring Pygeoweaver Functionalities: Pygeoweaver opens the door to a rich set of functionalities for managing geoweaver processes and workflows. This chapter's later sections will delve into the specifics of working with Pygeoweaver, offering insights into the available classes and methods. For in-depth information, you can always refer to the API Reference.\n",
    "\n",
    "Pygeoweaver serves as a comprehensive toolkit for effectively managing geoweaver processes and workflows within the Python ecosystem. Let's explore some key aspects of working with Pygeoweaver:\n",
    "\n",
    "Creating Processes: Pygeoweaver simplifies the process of defining and creating geoweaver processes. Using the create_process function, you can specify essential parameters like programming language, description, name, and, most importantly, the code that encapsulates your process logic. This functionality empowers researchers to encapsulate their scientific workflows within Python, enhancing flexibility and accessibility.\n",
    "\n",
    "Managing Workflows: Pygeoweaver takes workflow management to the next level. Researchers can effortlessly create and manipulate workflows by defining nodes and edges using the create_workflow function. This feature allows for the construction of workflows with specified dependencies among nodes, facilitating the orchestration of complex scientific processes.\n",
    "\n",
    "Interacting with Geoweaver: Pygeoweaver provides a range of functions and methods to seamlessly interact with Geoweaver instances. Researchers can add processes, workflows, and perform various geoweaver-related tasks with ease. This integration bridges the gap between Geoweaver's capabilities and the Python ecosystem, ensuring a smooth workflow management experience. The table below shows the comparision of Pygeoweaver with other main stream libraries."
   ]
  },
  {
   "cell_type": "markdown",
   "metadata": {},
   "source": [
    "| Features                                         | Pygeoweaver                                  | Argo                                | Airflow                         | Prefect                           |\n",
    "|--------------------------------------------------|---------------------------------------------|-------------------------------------|---------------------------------|-----------------------------------|\n",
    "| Streamlined Sharing and Collaboration             | Supports easy sharing and collaboration.   | Lacks streamlined sharing and collaboration. | Lacks streamlined sharing and collaboration. | Lacks streamlined sharing and collaboration. |\n",
    "| Portable Workflows                               | Creates portable workflow zip files.         | Does not support portable workflows. | Does not support portable workflows. | Does not support portable workflows. |\n",
    "| Comprehensive Metadata                            | Provides comprehensive metadata management.   | Does not provide comprehensive metadata. | Does not provide comprehensive metadata. | Does not provide comprehensive metadata. |\n",
    "| Streamlined Deployment                           | Simplifies workflow deployment.              | Limited streamlined deployment.      | Does not offer streamlined deployment. | Does not offer streamlined deployment. |\n",
    "| Graphical Workflow Editor                        | Offers a graphical workflow editor.          | Does not provide a graphical editor. | Does not provide a graphical editor. | Does not provide a graphical editor. |\n",
    "| Automatic History Recording                      | Automatically records workflow history.      | Does not automatically record history. | Does not automatically record history. | Does not automatically record history. |\n",
    "| Enhanced Reproducibility and Transparency        | Enhances reproducibility and transparency.    | Does not offer equivalent enhancements. | Does not offer equivalent enhancements. | Does not offer equivalent enhancements. |\n",
    "| Remote and Distributed Execution Capabilities    | Supports remote and distributed execution.   | Does not offer remote and distributed execution. | Does not offer remote and distributed execution. | Does not offer remote and distributed execution. |\n",
    "| Workflow Monitoring and Alerting                 | Supports workflow monitoring and alerting.    | Limited workflow monitoring and alerting. | Offers workflow monitoring and alerting. | Offers workflow monitoring and alerting. |\n",
    "| Real-time Data Processing and Analysis            | Enables real-time data processing and analysis. | Does not focus on real-time capabilities. | Does not focus on real-time capabilities. | Does not focus on real-time capabilities. |\n",
    "| In-browser Workflow Composition and Execution    | Allows in-browser workflow composition and execution. | Does not provide in-browser composition. | Does not provide in-browser composition. | Does not provide in-browser composition. |\n",
    "| Interactive Visualization and Analysis Tools      | Supports interactive visualization and analysis tools. | Does not emphasize this aspect. | Does not emphasize this aspect. | Does not emphasize this aspect. |\n",
    "| Collaborative Workspace for Workflow Development  | Offers a collaborative workspace.             | Does not have a built-in collaborative workspace. | Does not have a built-in collaborative workspace. | Does not have a built-in collaborative workspace. |\n",
    "| Multi-platform Support (Local, Cloud, Distributed) | Provides multi-platform support.              | Lacks support for multiple platforms. | Offers support for multiple platforms. | Offers support for multiple platforms. |\n"
   ]
  },
  {
   "cell_type": "markdown",
   "metadata": {},
   "source": [
    "## Usage\n",
    "\n",
    "#### Listing Existing Objects\n",
    "To list the existing hosts, processes, and workflows, execute the respective commands:"
   ]
  },
  {
   "cell_type": "code",
   "execution_count": 10,
   "metadata": {},
   "outputs": [
    {
     "name": "stdout",
     "output_type": "stream",
     "text": [
      "+---------+----------------------+-----------------+------+--------------+\n",
      "| Host Id | Hostname             | IP              | Port | Username     |\n",
      "+---------+----------------------+-----------------+------+--------------+\n",
      "| 2c9z4s  | Local                |                 |      | -            |\n",
      "| 100001  | Localhost            | 127.0.0.1       | 22   | publicuser   |\n",
      "| 3yvozx  | New Host             |                 |      | -            |\n",
      "| jf7wuu  | Remote               | 129.174.131.229 | 22   | chetana      |\n",
      "| njqmil  | local@ssh-debug-only | 10.151.168.175  | 22   | gokulprathin |\n",
      "+---------+----------------------+-----------------+------+--------------+\n"
     ]
    }
   ],
   "source": [
    "import pygeoweaver as geoweaver\n",
    "geoweaver.list_hosts()"
   ]
  },
  {
   "cell_type": "code",
   "execution_count": 11,
   "metadata": {},
   "outputs": [
    {
     "name": "stdout",
     "output_type": "stream",
     "text": [
      "+------------+-------------------------------------+----------+-------------+\n",
      "| Process Id | Name                                | Language | Description |\n",
      "+------------+-------------------------------------+----------+-------------+\n",
      "| 8orlpp     | sample bash                         | shell    | shell       |\n",
      "| rfgoeg     | current_dir                         | python   | -           |\n",
      "| de8djk     | sample-bash                         | shell    | shell       |\n",
      "| 78vedq     | data_sentinel2                      | python   | -           |\n",
      "| mxpyqt     | model_creation_lstm                 | python   | python      |\n",
      "| c2xkhz     | model_creation_rf                   | python   | -           |\n",
      "| rauqsh     | model_creation_ghostnet             | python   | python      |\n",
      "| mi3e5n     | model_comparison                    | python   | -           |\n",
      "| u7xh2p     | data_integration                    | python   | -           |\n",
      "| 2wkl6e     | service_deployment                  | python   | python      |\n",
      "| i2fynz     | service_prediction                  | python   | -           |\n",
      "| e8k4wq     | model_train_validate                | python   | -           |\n",
      "| h1qp9v     | model_predict                       | python   | -           |\n",
      "| urd0nk     | data_terrainFeatures                | python   | -           |\n",
      "| 525l8q     | data_gee_modis_station_only         | python   | -           |\n",
      "| 7temiv     | data_gee_sentinel1_station_only     | python   | -           |\n",
      "| rmxece     | data_associate_station_grid_cell    | python   | -           |\n",
      "| illwc1     | data_gee_modis_real_time            | python   | -           |\n",
      "| sjs5by     | data_gee_sentinel1_real_time        | python   | -           |\n",
      "| y7nb46     | base_hole                           | python   | -           |\n",
      "| a8p3n7     | data_gee_gridmet_station_only       | python   | -           |\n",
      "| smsdr0     | data_gee_gridmet_real_time          | python   | -           |\n",
      "| 4i0sop     | model_creation_xgboost              | python   | -           |\n",
      "| b63prf     | testing_data_integration            | python   | -           |\n",
      "| zh38b6     | snowcast_utils                      | python   | -           |\n",
      "| wdh394     | model_create_kehan                  | python   | -           |\n",
      "| p87wh1     | data_snotel_real_time               | python   | -           |\n",
      "| ilbqzg     | all_dependencies                    | python   | -           |\n",
      "| do86ae     | data_WUS_UCLA_SR                    | python   | python      |\n",
      "| gkhtc0     | data_nsidc_4km_swe                  | python   | -           |\n",
      "| lbd6cp     | model_creation_et                   | python   | python      |\n",
      "| 8ovvln     | data_nsidc_4km_swe_testing          | python   | -           |\n",
      "| 6z5it4     | install_dependencies                | python   | -           |\n",
      "| 2l4pid     | interpreter-exec                    | python   | python      |\n",
      "| vzrekq     | plot_utilities                      | python   | -           |\n",
      "| 2u9n3d     | subglacial_topography_plot          | python   | -           |\n",
      "| oikovr     | gridded_topography_plot             | python   | -           |\n",
      "| r5qlro     | normal_score_transformation         | python   | -           |\n",
      "| hyf9o1     | transformed_data_plot               | python   | python      |\n",
      "| a9jrs1     | isotropic_experimental_variogram    | python   | -           |\n",
      "| 8hyi80     | anisotropoic_experimental_variogram | python   | -           |\n",
      "| 0qutu4     | plot_test                           | jupyter  | jupyter     |\n",
      "| 8sv3o6     | gridmet_region_selection_download   | python   | python      |\n",
      "| 11iolq     | gridmet_modis                       | python   | -           |\n",
      "| oof81y     | ml_post_processing                  | python   | python      |\n",
      "| drd3i0     | data_terrain_imagery                | python   | -           |\n",
      "| wttkvt     | earth_data_utils                    | python   | -           |\n",
      "| yvo1ds     | search_data                         | python   | -           |\n",
      "| cgvhiy     | earth_access_authenticate           | python   | -           |\n",
      "| v2ow93     | connect_harmony_client              | python   | -           |\n",
      "| 1b4ko0     | s3_file_storage                     | python   | -           |\n",
      "| 2a8mok     | install_deps                        | shell    | -           |\n",
      "| yzcazu     | ss                                  | python   | python      |\n",
      "| 6o3cn2     | test_py                             | python   | python      |\n",
      "| 3waubo     | test_py                             | python   | python      |\n",
      "| 0jaaet     | test_py                             | python   | python      |\n",
      "| bs1l0r     | sea_level_utils                     | python   | -           |\n",
      "| qeb9yn     | xarray_earth_access                 | python   | -           |\n",
      "| x7coy2     | plot_global_avg_sea_level           | python   | -           |\n",
      "| xrgiau     | test11                              | builtin  | builtin     |\n",
      "| ru79i2     | install_packages                    | shell    | shell       |\n",
      "| br9etb     | data_snotel_station_only            | python   | -           |\n",
      "| chvu4m     | model_train_validate_gan            | python   | python      |\n",
      "| doinnd     | model_creation_pycaret              | python   | -           |\n",
      "| b7a4fu     | model_creation_autokeras            | python   | -           |\n",
      "| gnpbdq     | model_creation_autopytorch          | python   | -           |\n",
      "| gjw7fq     | test_process                        | python   | -           |\n",
      "| 7tbppd     | test1                               | python   | python      |\n",
      "+------------+-------------------------------------+----------+-------------+\n"
     ]
    }
   ],
   "source": [
    "geoweaver.list_processes()"
   ]
  },
  {
   "cell_type": "markdown",
   "metadata": {},
   "source": []
  },
  {
   "cell_type": "code",
   "execution_count": 12,
   "metadata": {},
   "outputs": [
    {
     "name": "stdout",
     "output_type": "stream",
     "text": [
      "+----------------------+--------------------------------------------------------+\n",
      "| Workflow Id          | Name                                                   |\n",
      "+----------------------+--------------------------------------------------------+\n",
      "| ejthsf0nkll1ccdvvssg | test new                                               |\n",
      "| grlgu9mkbry3qe8qxdg1 | tada                                                   |\n",
      "| cvpim3alkvboyj8b8mvq | new flow                                               |\n",
      "| lgiycwwzwkbmgff5377i | foo                                                    |\n",
      "| 96tqhttgag3b6wbi1fgb | Analyzing Sea Level Rise Using Earth Data in the Cloud |\n",
      "| kr2novmm4i9i27z5adyj | earth_data_cloud_clinic                                |\n",
      "| gr3yir8dynuvvrwp39ox | snowcast_wormhole                                      |\n",
      "+----------------------+--------------------------------------------------------+\n"
     ]
    }
   ],
   "source": [
    "geoweaver.list_workflows()"
   ]
  },
  {
   "cell_type": "markdown",
   "metadata": {},
   "source": [
    "#### Running a workflow\n",
    "\n",
    "To execute a workflow, use the following command:"
   ]
  },
  {
   "cell_type": "markdown",
   "metadata": {},
   "source": [
    "```python3\n",
    "geoweaver.run_workflow(\"workflow_id\", \"host_id_list\", \"password_list\", \"environment_list\")\n",
    "```"
   ]
  },
  {
   "cell_type": "markdown",
   "metadata": {},
   "source": [
    "#### Exporting a workflow\n",
    "\n",
    "```python3\n",
    "geoweaver.export_workflow(\"workflow_id\", \"workflow_zip_save_path\")\n",
    "```\n"
   ]
  },
  {
   "cell_type": "code",
   "execution_count": 15,
   "metadata": {},
   "outputs": [
    {
     "name": "stdout",
     "output_type": "stream",
     "text": [
      "Workflow lgiycwwzwkbmgff5377i has been exported to file: /Users/gokulprathin/foo.zip\n"
     ]
    }
   ],
   "source": [
    "# Example usage:\n",
    "geoweaver.export_workflow(workflow_id=\"lgiycwwzwkbmgff5377i\", target_file_path=\"/Users/gokulprathin/foo.zip\")"
   ]
  },
  {
   "cell_type": "markdown",
   "metadata": {},
   "source": [
    "#### Viewing Workflow and Process History\n",
    "To retrieve the history of a workflow run or a process run, use the respective commands:"
   ]
  },
  {
   "cell_type": "code",
   "execution_count": 20,
   "metadata": {},
   "outputs": [
    {
     "data": {
      "text/html": [
       "<div>\n",
       "<style scoped>\n",
       "    .dataframe tbody tr th:only-of-type {\n",
       "        vertical-align: middle;\n",
       "    }\n",
       "\n",
       "    .dataframe tbody tr th {\n",
       "        vertical-align: top;\n",
       "    }\n",
       "\n",
       "    .dataframe thead th {\n",
       "        text-align: right;\n",
       "    }\n",
       "</style>\n",
       "<table border=\"1\" class=\"dataframe\">\n",
       "  <thead>\n",
       "    <tr style=\"text-align: right;\">\n",
       "      <th></th>\n",
       "      <th>history_id</th>\n",
       "      <th>history_input</th>\n",
       "      <th>history_output</th>\n",
       "      <th>history_begin_time</th>\n",
       "      <th>history_end_time</th>\n",
       "      <th>history_notes</th>\n",
       "      <th>history_process</th>\n",
       "      <th>host_id</th>\n",
       "      <th>indicator</th>\n",
       "    </tr>\n",
       "  </thead>\n",
       "  <tbody>\n",
       "    <tr>\n",
       "      <th>0</th>\n",
       "      <td>wi00o8l4c5e1t30x4e</td>\n",
       "      <td>#!/bin/bash\\necho \"Something\"\\n</td>\n",
       "      <td>None</td>\n",
       "      <td>2023-04-15 20:59:16.550</td>\n",
       "      <td>NaT</td>\n",
       "      <td>None</td>\n",
       "      <td>8orlpp</td>\n",
       "      <td>None</td>\n",
       "      <td>None</td>\n",
       "    </tr>\n",
       "    <tr>\n",
       "      <th>1</th>\n",
       "      <td>bvlsm8ptaa4</td>\n",
       "      <td>#!/bin/bash\\necho \"Something\"\\n</td>\n",
       "      <td>Something\\n</td>\n",
       "      <td>2023-01-24 14:14:50.818</td>\n",
       "      <td>2023-01-24 14:14:52.001999872</td>\n",
       "      <td>None</td>\n",
       "      <td>8orlpp</td>\n",
       "      <td>100001</td>\n",
       "      <td>Done</td>\n",
       "    </tr>\n",
       "    <tr>\n",
       "      <th>2</th>\n",
       "      <td>4wmbvq3h231</td>\n",
       "      <td>#!/bin/bash\\necho \"Something\"\\n</td>\n",
       "      <td>Something\\n</td>\n",
       "      <td>2023-01-24 14:13:56.558</td>\n",
       "      <td>2023-01-24 14:13:57.636000000</td>\n",
       "      <td>None</td>\n",
       "      <td>8orlpp</td>\n",
       "      <td>100001</td>\n",
       "      <td>Done</td>\n",
       "    </tr>\n",
       "    <tr>\n",
       "      <th>3</th>\n",
       "      <td>idhm0ul9jru</td>\n",
       "      <td>#!/bin/bash\\necho \"Something\"\\n</td>\n",
       "      <td>Something\\n</td>\n",
       "      <td>2023-01-24 14:13:38.255</td>\n",
       "      <td>2023-01-24 14:13:39.491000064</td>\n",
       "      <td>None</td>\n",
       "      <td>8orlpp</td>\n",
       "      <td>100001</td>\n",
       "      <td>Done</td>\n",
       "    </tr>\n",
       "    <tr>\n",
       "      <th>4</th>\n",
       "      <td>gl6n1dp0zn4</td>\n",
       "      <td>#!/bin/bash\\necho \"Something\"\\n</td>\n",
       "      <td>Something\\n</td>\n",
       "      <td>2023-01-24 13:45:56.714</td>\n",
       "      <td>2023-01-24 13:45:58.206000128</td>\n",
       "      <td>None</td>\n",
       "      <td>8orlpp</td>\n",
       "      <td>100001</td>\n",
       "      <td>Done</td>\n",
       "    </tr>\n",
       "  </tbody>\n",
       "</table>\n",
       "</div>"
      ],
      "text/plain": [
       "           history_id                    history_input history_output  \\\n",
       "0  wi00o8l4c5e1t30x4e  #!/bin/bash\\necho \"Something\"\\n           None   \n",
       "1         bvlsm8ptaa4  #!/bin/bash\\necho \"Something\"\\n    Something\\n   \n",
       "2         4wmbvq3h231  #!/bin/bash\\necho \"Something\"\\n    Something\\n   \n",
       "3         idhm0ul9jru  #!/bin/bash\\necho \"Something\"\\n    Something\\n   \n",
       "4         gl6n1dp0zn4  #!/bin/bash\\necho \"Something\"\\n    Something\\n   \n",
       "\n",
       "       history_begin_time              history_end_time history_notes  \\\n",
       "0 2023-04-15 20:59:16.550                           NaT          None   \n",
       "1 2023-01-24 14:14:50.818 2023-01-24 14:14:52.001999872          None   \n",
       "2 2023-01-24 14:13:56.558 2023-01-24 14:13:57.636000000          None   \n",
       "3 2023-01-24 14:13:38.255 2023-01-24 14:13:39.491000064          None   \n",
       "4 2023-01-24 13:45:56.714 2023-01-24 13:45:58.206000128          None   \n",
       "\n",
       "  history_process host_id indicator  \n",
       "0          8orlpp    None      None  \n",
       "1          8orlpp  100001      Done  \n",
       "2          8orlpp  100001      Done  \n",
       "3          8orlpp  100001      Done  \n",
       "4          8orlpp  100001      Done  "
      ]
     },
     "execution_count": 20,
     "metadata": {},
     "output_type": "execute_result"
    }
   ],
   "source": [
    "geoweaver.get_process_history(\"8orlpp\")"
   ]
  },
  {
   "cell_type": "code",
   "execution_count": 28,
   "metadata": {},
   "outputs": [
    {
     "data": {
      "text/html": [
       "<div>\n",
       "<style scoped>\n",
       "    .dataframe tbody tr th:only-of-type {\n",
       "        vertical-align: middle;\n",
       "    }\n",
       "\n",
       "    .dataframe tbody tr th {\n",
       "        vertical-align: top;\n",
       "    }\n",
       "\n",
       "    .dataframe thead th {\n",
       "        text-align: right;\n",
       "    }\n",
       "</style>\n",
       "<table border=\"1\" class=\"dataframe\">\n",
       "  <thead>\n",
       "    <tr style=\"text-align: right;\">\n",
       "      <th></th>\n",
       "      <th>history_id</th>\n",
       "      <th>history_input</th>\n",
       "      <th>history_output</th>\n",
       "      <th>history_begin_time</th>\n",
       "      <th>history_end_time</th>\n",
       "      <th>history_notes</th>\n",
       "      <th>history_process</th>\n",
       "      <th>host_id</th>\n",
       "      <th>indicator</th>\n",
       "    </tr>\n",
       "  </thead>\n",
       "  <tbody>\n",
       "    <tr>\n",
       "      <th>0</th>\n",
       "      <td>dzIRhBkrze5LcUkQ2l</td>\n",
       "      <td>78vedq-gHIhY;mxpyqt-56igl;c2xkhz-1awEG;rauqsh-...</td>\n",
       "      <td>qol9tn93egl;bc1qivistlf;bs601qc9fpe;zx9f8kzkl6...</td>\n",
       "      <td>2023-06-23 19:01:06.659</td>\n",
       "      <td>2023-06-23 19:08:33.480999936</td>\n",
       "      <td>None</td>\n",
       "      <td>gr3yir8dynuvvrwp39ox</td>\n",
       "      <td>100001;</td>\n",
       "      <td>Failed</td>\n",
       "    </tr>\n",
       "    <tr>\n",
       "      <th>1</th>\n",
       "      <td>QcCz7Fi2lDqGYlzIYn</td>\n",
       "      <td>78vedq-gHIhY;mxpyqt-56igl;c2xkhz-1awEG;rauqsh-...</td>\n",
       "      <td>nj5gdqjtjxu;h9f2a1l0m5l;nx3ydlj0dsd;kwqgf66jhq...</td>\n",
       "      <td>2023-03-21 23:52:23.702</td>\n",
       "      <td>2023-03-21 23:52:43.340999936</td>\n",
       "      <td>None</td>\n",
       "      <td>gr3yir8dynuvvrwp39ox</td>\n",
       "      <td>jf7wuu;</td>\n",
       "      <td>Failed</td>\n",
       "    </tr>\n",
       "    <tr>\n",
       "      <th>2</th>\n",
       "      <td>jx7Lw1MFAeJmnKZRE0</td>\n",
       "      <td>78vedq-gHIhY;mxpyqt-56igl;c2xkhz-1awEG;rauqsh-...</td>\n",
       "      <td>2sln6vyx3sv;fummyrfzyn4;y2xz41kppu5;iuiy6j0qv2...</td>\n",
       "      <td>2023-03-20 17:16:24.699</td>\n",
       "      <td>2023-03-20 17:16:46.910000128</td>\n",
       "      <td>None</td>\n",
       "      <td>gr3yir8dynuvvrwp39ox</td>\n",
       "      <td>jf7wuu;</td>\n",
       "      <td>Failed</td>\n",
       "    </tr>\n",
       "    <tr>\n",
       "      <th>3</th>\n",
       "      <td>KxBZmK3OJL35e1gaoR</td>\n",
       "      <td>78vedq-gHIhY;mxpyqt-56igl;c2xkhz-1awEG;rauqsh-...</td>\n",
       "      <td>p7lyyk6nip9;9dco8jii41b;xeb5sawn70z;bbm9vfpaq9...</td>\n",
       "      <td>2023-03-11 01:10:28.000</td>\n",
       "      <td>2023-03-11 01:20:58.169999872</td>\n",
       "      <td>None</td>\n",
       "      <td>gr3yir8dynuvvrwp39ox</td>\n",
       "      <td>45wlwr;</td>\n",
       "      <td>Done</td>\n",
       "    </tr>\n",
       "    <tr>\n",
       "      <th>4</th>\n",
       "      <td>X1nbc4mHEqFOUo6vst</td>\n",
       "      <td>78vedq-gHIhY;mxpyqt-56igl;c2xkhz-1awEG;rauqsh-...</td>\n",
       "      <td>uoptj1n8d2j;rkek46m5cah;2ejwpdbgcm6;475fj1ptvb...</td>\n",
       "      <td>2023-03-09 02:50:14.059</td>\n",
       "      <td>2023-03-09 02:59:53.595000064</td>\n",
       "      <td>None</td>\n",
       "      <td>gr3yir8dynuvvrwp39ox</td>\n",
       "      <td>45wlwr;</td>\n",
       "      <td>Failed</td>\n",
       "    </tr>\n",
       "    <tr>\n",
       "      <th>...</th>\n",
       "      <td>...</td>\n",
       "      <td>...</td>\n",
       "      <td>...</td>\n",
       "      <td>...</td>\n",
       "      <td>...</td>\n",
       "      <td>...</td>\n",
       "      <td>...</td>\n",
       "      <td>...</td>\n",
       "      <td>...</td>\n",
       "    </tr>\n",
       "    <tr>\n",
       "      <th>176</th>\n",
       "      <td>mKmqjIYwokwzDFEM9k</td>\n",
       "      <td>78vedq-gHIhY;mxpyqt-56igl;c2xkhz-1awEG;rauqsh-...</td>\n",
       "      <td>mfqyx4ighe3;886ud6vxi5e;7hl7avwis4f;5azrtox1ie...</td>\n",
       "      <td>2022-02-27 15:57:11.558</td>\n",
       "      <td>2022-02-27 15:57:26.839000064</td>\n",
       "      <td>None</td>\n",
       "      <td>gr3yir8dynuvvrwp39ox</td>\n",
       "      <td>je29f6;</td>\n",
       "      <td>Failed</td>\n",
       "    </tr>\n",
       "    <tr>\n",
       "      <th>177</th>\n",
       "      <td>d9fdVN65f61Az20q2P</td>\n",
       "      <td>m3bqdb-14o4Q;78vedq-gHIhY;ob2m37-8uXG0;mxpyqt-...</td>\n",
       "      <td>uu5p8yh6nzr;elgnuc41vhg;mmbv9ncyhh9;bu0t929z1a...</td>\n",
       "      <td>2022-01-23 22:44:11.651</td>\n",
       "      <td>2022-01-23 22:44:28.759000064</td>\n",
       "      <td>None</td>\n",
       "      <td>gr3yir8dynuvvrwp39ox</td>\n",
       "      <td>100001;</td>\n",
       "      <td>Done</td>\n",
       "    </tr>\n",
       "    <tr>\n",
       "      <th>178</th>\n",
       "      <td>NdPqAUoc9ZkSJl92rR</td>\n",
       "      <td>m3bqdb-14o4Q;78vedq-gHIhY;ob2m37-8uXG0;mxpyqt-...</td>\n",
       "      <td>eg6kd34wb1k;f7b7s0f1f9p;od9rc01ue7l;jkyzrgyhus...</td>\n",
       "      <td>2022-01-23 20:29:30.439</td>\n",
       "      <td>2022-01-23 20:29:43.156000000</td>\n",
       "      <td>None</td>\n",
       "      <td>gr3yir8dynuvvrwp39ox</td>\n",
       "      <td>100001;</td>\n",
       "      <td>Done</td>\n",
       "    </tr>\n",
       "    <tr>\n",
       "      <th>179</th>\n",
       "      <td>eOBbCeyVG77RaLUswZ</td>\n",
       "      <td>m3bqdb-14o4Q;78vedq-gHIhY;ob2m37-8uXG0;mxpyqt-...</td>\n",
       "      <td>jvwqpcqy8q3;1vgeg97ui9a;xr1fhfu14sm;3evg0ldmi5...</td>\n",
       "      <td>2022-01-17 21:33:44.480</td>\n",
       "      <td>2022-01-17 21:33:53.708999936</td>\n",
       "      <td>None</td>\n",
       "      <td>gr3yir8dynuvvrwp39ox</td>\n",
       "      <td>100001;</td>\n",
       "      <td>Done</td>\n",
       "    </tr>\n",
       "    <tr>\n",
       "      <th>180</th>\n",
       "      <td>NhRJaMJLo0ge8K6cmn</td>\n",
       "      <td>m3bqdb-14o4Q;78vedq-gHIhY;ob2m37-8uXG0;mxpyqt-...</td>\n",
       "      <td>od39bpxjsp4;b6wvr2arn6t;sz0cab4cf02;vuwfyp6evr...</td>\n",
       "      <td>2022-01-17 21:24:31.951</td>\n",
       "      <td>2022-01-17 21:24:45.028999936</td>\n",
       "      <td>None</td>\n",
       "      <td>gr3yir8dynuvvrwp39ox</td>\n",
       "      <td>100001;</td>\n",
       "      <td>Done</td>\n",
       "    </tr>\n",
       "  </tbody>\n",
       "</table>\n",
       "<p>181 rows × 9 columns</p>\n",
       "</div>"
      ],
      "text/plain": [
       "             history_id                                      history_input  \\\n",
       "0    dzIRhBkrze5LcUkQ2l  78vedq-gHIhY;mxpyqt-56igl;c2xkhz-1awEG;rauqsh-...   \n",
       "1    QcCz7Fi2lDqGYlzIYn  78vedq-gHIhY;mxpyqt-56igl;c2xkhz-1awEG;rauqsh-...   \n",
       "2    jx7Lw1MFAeJmnKZRE0  78vedq-gHIhY;mxpyqt-56igl;c2xkhz-1awEG;rauqsh-...   \n",
       "3    KxBZmK3OJL35e1gaoR  78vedq-gHIhY;mxpyqt-56igl;c2xkhz-1awEG;rauqsh-...   \n",
       "4    X1nbc4mHEqFOUo6vst  78vedq-gHIhY;mxpyqt-56igl;c2xkhz-1awEG;rauqsh-...   \n",
       "..                  ...                                                ...   \n",
       "176  mKmqjIYwokwzDFEM9k  78vedq-gHIhY;mxpyqt-56igl;c2xkhz-1awEG;rauqsh-...   \n",
       "177  d9fdVN65f61Az20q2P  m3bqdb-14o4Q;78vedq-gHIhY;ob2m37-8uXG0;mxpyqt-...   \n",
       "178  NdPqAUoc9ZkSJl92rR  m3bqdb-14o4Q;78vedq-gHIhY;ob2m37-8uXG0;mxpyqt-...   \n",
       "179  eOBbCeyVG77RaLUswZ  m3bqdb-14o4Q;78vedq-gHIhY;ob2m37-8uXG0;mxpyqt-...   \n",
       "180  NhRJaMJLo0ge8K6cmn  m3bqdb-14o4Q;78vedq-gHIhY;ob2m37-8uXG0;mxpyqt-...   \n",
       "\n",
       "                                        history_output  \\\n",
       "0    qol9tn93egl;bc1qivistlf;bs601qc9fpe;zx9f8kzkl6...   \n",
       "1    nj5gdqjtjxu;h9f2a1l0m5l;nx3ydlj0dsd;kwqgf66jhq...   \n",
       "2    2sln6vyx3sv;fummyrfzyn4;y2xz41kppu5;iuiy6j0qv2...   \n",
       "3    p7lyyk6nip9;9dco8jii41b;xeb5sawn70z;bbm9vfpaq9...   \n",
       "4    uoptj1n8d2j;rkek46m5cah;2ejwpdbgcm6;475fj1ptvb...   \n",
       "..                                                 ...   \n",
       "176  mfqyx4ighe3;886ud6vxi5e;7hl7avwis4f;5azrtox1ie...   \n",
       "177  uu5p8yh6nzr;elgnuc41vhg;mmbv9ncyhh9;bu0t929z1a...   \n",
       "178  eg6kd34wb1k;f7b7s0f1f9p;od9rc01ue7l;jkyzrgyhus...   \n",
       "179  jvwqpcqy8q3;1vgeg97ui9a;xr1fhfu14sm;3evg0ldmi5...   \n",
       "180  od39bpxjsp4;b6wvr2arn6t;sz0cab4cf02;vuwfyp6evr...   \n",
       "\n",
       "         history_begin_time              history_end_time history_notes  \\\n",
       "0   2023-06-23 19:01:06.659 2023-06-23 19:08:33.480999936          None   \n",
       "1   2023-03-21 23:52:23.702 2023-03-21 23:52:43.340999936          None   \n",
       "2   2023-03-20 17:16:24.699 2023-03-20 17:16:46.910000128          None   \n",
       "3   2023-03-11 01:10:28.000 2023-03-11 01:20:58.169999872          None   \n",
       "4   2023-03-09 02:50:14.059 2023-03-09 02:59:53.595000064          None   \n",
       "..                      ...                           ...           ...   \n",
       "176 2022-02-27 15:57:11.558 2022-02-27 15:57:26.839000064          None   \n",
       "177 2022-01-23 22:44:11.651 2022-01-23 22:44:28.759000064          None   \n",
       "178 2022-01-23 20:29:30.439 2022-01-23 20:29:43.156000000          None   \n",
       "179 2022-01-17 21:33:44.480 2022-01-17 21:33:53.708999936          None   \n",
       "180 2022-01-17 21:24:31.951 2022-01-17 21:24:45.028999936          None   \n",
       "\n",
       "          history_process  host_id indicator  \n",
       "0    gr3yir8dynuvvrwp39ox  100001;    Failed  \n",
       "1    gr3yir8dynuvvrwp39ox  jf7wuu;    Failed  \n",
       "2    gr3yir8dynuvvrwp39ox  jf7wuu;    Failed  \n",
       "3    gr3yir8dynuvvrwp39ox  45wlwr;      Done  \n",
       "4    gr3yir8dynuvvrwp39ox  45wlwr;    Failed  \n",
       "..                    ...      ...       ...  \n",
       "176  gr3yir8dynuvvrwp39ox  je29f6;    Failed  \n",
       "177  gr3yir8dynuvvrwp39ox  100001;      Done  \n",
       "178  gr3yir8dynuvvrwp39ox  100001;      Done  \n",
       "179  gr3yir8dynuvvrwp39ox  100001;      Done  \n",
       "180  gr3yir8dynuvvrwp39ox  100001;      Done  \n",
       "\n",
       "[181 rows x 9 columns]"
      ]
     },
     "execution_count": 28,
     "metadata": {},
     "output_type": "execute_result"
    }
   ],
   "source": [
    "geoweaver.get_workflow_history(\"gr3yir8dynuvvrwp39ox\")"
   ]
  },
  {
   "cell_type": "markdown",
   "metadata": {},
   "source": [
    "#### Inspecting Details\n",
    "To view details of a process, use the following command:"
   ]
  },
  {
   "cell_type": "code",
   "execution_count": 30,
   "metadata": {},
   "outputs": [
    {
     "name": "stdout",
     "output_type": "stream",
     "text": [
      "+------------+--------------+---------------------+------------------+---------------+--------------------------+\n",
      "| Process Id | Process Name | Process Description | Process Language | Process Owner | Process is Confidential? |\n",
      "+------------+--------------+---------------------+------------------+---------------+--------------------------+\n",
      "| rfgoeg     | current_dir  | -                   | python           | 111111        | FALSE                    |\n",
      "+------------+--------------+---------------------+------------------+---------------+--------------------------+\n"
     ]
    }
   ],
   "source": [
    "geoweaver.detail_process(\"rfgoeg\")"
   ]
  },
  {
   "cell_type": "markdown",
   "metadata": {},
   "source": [
    "To view details of a workflow, use the following command:"
   ]
  },
  {
   "cell_type": "code",
   "execution_count": 31,
   "metadata": {},
   "outputs": [
    {
     "name": "stdout",
     "output_type": "stream",
     "text": [
      "WorkflowId: gr3yir8dynuvvrwp39ox\n",
      "+----------------------+-------------------+-------------------------------------------------------------------------------------------------+--------+---------------+\n",
      "| Workflow Id          | Name              | Description                                                                                     | Owner  | Confidential? |\n",
      "+----------------------+-------------------+-------------------------------------------------------------------------------------------------+--------+---------------+\n",
      "| gr3yir8dynuvvrwp39ox | snowcast_wormhole | The complete workflow for snowcast workflow creation, train, test, validation, deploy, predict. | 111111 | FALSE         |\n",
      "+----------------------+-------------------+-------------------------------------------------------------------------------------------------+--------+---------------+\n"
     ]
    }
   ],
   "source": [
    "geoweaver.detail_workflow(\"gr3yir8dynuvvrwp39ox\")"
   ]
  },
  {
   "cell_type": "markdown",
   "metadata": {},
   "source": [
    "## Documentation\n",
    "For detailed documentation and examples, please visit the PyGeoWeaver Documentation [https://pygeoweaver.readthedocs.io/)"
   ]
  }
 ],
 "metadata": {
  "kernelspec": {
   "display_name": "base",
   "language": "python",
   "name": "python3"
  },
  "language_info": {
   "codemirror_mode": {
    "name": "ipython",
    "version": 3
   },
   "file_extension": ".py",
   "mimetype": "text/x-python",
   "name": "python",
   "nbconvert_exporter": "python",
   "pygments_lexer": "ipython3",
   "version": "3.9.18"
  },
  "orig_nbformat": 4
 },
 "nbformat": 4,
 "nbformat_minor": 2
}
